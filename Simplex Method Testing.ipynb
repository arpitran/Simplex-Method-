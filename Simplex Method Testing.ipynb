{
 "cells": [
  {
   "cell_type": "code",
   "execution_count": 1,
   "metadata": {},
   "outputs": [
    {
     "name": "stdout",
     "output_type": "stream",
     "text": [
      "Optimal value: 15100.0 \n",
      "X: [660.   0. 340.]\n"
     ]
    }
   ],
   "source": [
    "import numpy as np\n",
    "from scipy.optimize import linprog\n",
    "\n",
    "A = np.array([[-1, -1, -1], [-1,2, 0], [0, 0, -1], [-1, 0, 0], [0, -1, 0]])\n",
    "b = np.array([-1000, 0, -340, 0, 0])\n",
    "c = np.array([10,15,25])\n",
    "\n",
    "res = linprog(c, A_ub=A, b_ub=b,bounds=(0, None))\n",
    "\n",
    "print('Optimal value:', res.fun, '\\nX:', res.x)"
   ]
  },
  {
   "cell_type": "markdown",
   "metadata": {},
   "source": [
    "Minimize          w = 10*y1 + 15*y2 + 25*y3\n",
    "Subject to:       y1 + y2 + y3 >= 1000\n",
    "                  y1 - 2*y2    >= 0\n",
    "                            y3 >= 340\n",
    "with              y1 >= 0, y2 >= 0"
   ]
  },
  {
   "cell_type": "code",
   "execution_count": 2,
   "metadata": {},
   "outputs": [
    {
     "name": "stdout",
     "output_type": "stream",
     "text": [
      "     fun: -22.0\n",
      " message: 'Optimization terminated successfully.'\n",
      "     nit: 1\n",
      "   slack: array([39.,  0.])\n",
      "  status: 0\n",
      " success: True\n",
      "       x: array([10., -3.])\n"
     ]
    }
   ],
   "source": [
    "from scipy.optimize import linprog\n",
    "c = [-1, 4]\n",
    "A = [[-3, 1], [1, 2]]\n",
    "b = [6, 4]\n",
    "x0_bnds = (None, None)\n",
    "x1_bnds = (-3, None)\n",
    "res = linprog(c, A, b, bounds=(x0_bnds, x1_bnds))\n",
    "print(res)"
   ]
  },
  {
   "cell_type": "markdown",
   "metadata": {},
   "source": [
    "Minimize: f = -1*x[0] + 4*x[1]\n",
    "\n",
    "Subject to: -3*x[0] + 1*x[1] <= 6\n",
    "1*x[0] + 2*x[1] <= 4\n",
    "x[1] >= -3"
   ]
  },
  {
   "cell_type": "code",
   "execution_count": 3,
   "metadata": {},
   "outputs": [
    {
     "name": "stdout",
     "output_type": "stream",
     "text": [
      "     fun: -6.0\n",
      " message: 'Optimization terminated successfully.'\n",
      "     nit: 1\n",
      "   slack: array([ 0., 10.,  5.])\n",
      "  status: 0\n",
      " success: True\n",
      "       x: array([0., 2.])\n"
     ]
    }
   ],
   "source": [
    "from scipy.optimize import linprog\n",
    "c = [2, -3]\n",
    "A = [[-1, 2], [3, 2], [1, -1]]\n",
    "b = [4, 14, 3]\n",
    "x0_bnds = (0, None)\n",
    "x1_bnds = (0, None)\n",
    "res = linprog(c, A, b, bounds=(x0_bnds, x1_bnds))\n",
    "print(res)"
   ]
  },
  {
   "cell_type": "code",
   "execution_count": 2,
   "metadata": {},
   "outputs": [
    {
     "name": "stdout",
     "output_type": "stream",
     "text": [
      "Optimal value: -6.0 \n",
      "X: [0. 2.]\n"
     ]
    }
   ],
   "source": [
    "import numpy as np\n",
    "from scipy.optimize import linprog\n",
    "\n",
    "A = np.array([[-1, 2], [3,2], [1, -1], [-1, 0], [0, -1]])\n",
    "b = np.array([4, 14, 3, 0, 0])\n",
    "c = np.array([2,-3])\n",
    "\n",
    "res = linprog(c, A_ub=A, b_ub=b,bounds=(0, None))\n",
    "\n",
    "print('Optimal value:', res.fun, '\\nX:', res.x)"
   ]
  },
  {
   "cell_type": "code",
   "execution_count": null,
   "metadata": {},
   "outputs": [],
   "source": []
  },
  {
   "cell_type": "code",
   "execution_count": null,
   "metadata": {},
   "outputs": [],
   "source": []
  }
 ],
 "metadata": {
  "kernelspec": {
   "display_name": "Python 3",
   "language": "python",
   "name": "python3"
  },
  "language_info": {
   "codemirror_mode": {
    "name": "ipython",
    "version": 3
   },
   "file_extension": ".py",
   "mimetype": "text/x-python",
   "name": "python",
   "nbconvert_exporter": "python",
   "pygments_lexer": "ipython3",
   "version": "3.6.5"
  }
 },
 "nbformat": 4,
 "nbformat_minor": 2
}
